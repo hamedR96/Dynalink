{
 "cells": [
  {
   "cell_type": "code",
   "execution_count": 1,
   "metadata": {
    "collapsed": false,
    "jupyter": {
     "outputs_hidden": false
    },
    "pycharm": {
     "name": "#%%\n"
    }
   },
   "outputs": [],
   "source": [
    "from top2vec import Top2Vec\n",
    "import pandas as pd\n",
    "from gensim.utils import tokenize\n",
    "import gensim.corpora as corpora\n",
    "from gensim.models import CoherenceModel\n",
    "from gensim.models import Phrases\n",
    "from gensim.models.phrases import Phraser\n",
    "from gensim.utils import simple_preprocess\n",
    "from gensim.parsing.preprocessing import strip_tags"
   ]
  },
  {
   "cell_type": "code",
   "execution_count": 2,
   "metadata": {
    "collapsed": false,
    "jupyter": {
     "outputs_hidden": false
    },
    "pycharm": {
     "name": "#%%\n"
    }
   },
   "outputs": [],
   "source": [
    "def bigrammer(doc):\n",
    "    sentence_stream = simple_preprocess(strip_tags(doc), deacc=True)\n",
    "    return bigram_phraser[sentence_stream]\n",
    "\n",
    "references_df = pd.read_pickle(\"pandas_data.pkl\")\n",
    "\n",
    "abstract_list=references_df[\"abstract\"]\n",
    "\n",
    "sentence_stream = [doc.split(\" \") for doc in  abstract_list]\n",
    "\n",
    "bigram = Phrases(sentence_stream, min_count=5, threshold=100, delimiter=b' ')\n",
    "bigram_phraser = Phraser(bigram)"
   ]
  },
  {
   "cell_type": "code",
   "execution_count": null,
   "metadata": {},
   "outputs": [],
   "source": [
    "tokenized = [list(bigrammer(doc)) for doc in abstract_list]"
   ]
  },
  {
   "cell_type": "code",
   "execution_count": 12,
   "metadata": {},
   "outputs": [],
   "source": [
    "from gensim.utils import tokenize\n",
    "lst=' '.join(list(abstract_list))\n",
    "tokenized=tokenize(lst)"
   ]
  },
  {
   "cell_type": "code",
   "execution_count": 15,
   "metadata": {
    "collapsed": false,
    "jupyter": {
     "outputs_hidden": false
    },
    "pycharm": {
     "name": "#%%\n"
    }
   },
   "outputs": [],
   "source": [
    "id2word = corpora.Dictionary(tokenized)\n",
    "corpus = [id2word.doc2bow(text) for text in tokenized]"
   ]
  },
  {
   "cell_type": "code",
   "execution_count": 5,
   "metadata": {},
   "outputs": [],
   "source": [
    "import pickle\n",
    "with open('topics_hamed.pkl', 'rb') as f:\n",
    "    topics1 = pickle.load(f)\n",
    "with open('topics_d2v.pkl', 'rb') as f:\n",
    "    topics2 = pickle.load(f)"
   ]
  },
  {
   "cell_type": "code",
   "execution_count": 4,
   "metadata": {
    "collapsed": false,
    "jupyter": {
     "outputs_hidden": false
    },
    "pycharm": {
     "name": "#%%\n"
    }
   },
   "outputs": [],
   "source": [
    "#d2v_model = Top2Vec.load(\"global_topic_model\")\n",
    "#topic_words, word_scores, topic_nums = d2v_model.get_topics(2)#d2v_model.get_num_topics())\n",
    "#topics =topic_words.tolist()"
   ]
  },
  {
   "cell_type": "code",
   "execution_count": null,
   "metadata": {
    "collapsed": false,
    "jupyter": {
     "outputs_hidden": false
    },
    "pycharm": {
     "name": "#%%\n"
    }
   },
   "outputs": [],
   "source": [
    "#topic_words1, word_scores1, topic_nums1 = d2v_model.get_topics(1)#d2v_model.get_num_topics())\n",
    "#topic_words2, word_scores2, topic_nums2 = d2v_model.get_topics(2)#d2v_model.get_num_topics())\n",
    "#topics =topic_words1.tolist()+topic_words2.tolist()\n",
    "#topics"
   ]
  },
  {
   "cell_type": "code",
   "execution_count": null,
   "metadata": {
    "collapsed": false,
    "jupyter": {
     "outputs_hidden": false
    },
    "pycharm": {
     "name": "#%%\n"
    }
   },
   "outputs": [],
   "source": [
    "cm = CoherenceModel(topics=topics1 ,texts=tokenized\n",
    "                    , corpus=corpus, dictionary=id2word, coherence='c_v')\n",
    "\n",
    "print(\"Model Coherence C_V is:{0}\".format(cm.get_coherence()))"
   ]
  },
  {
   "cell_type": "code",
   "execution_count": null,
   "metadata": {
    "collapsed": false,
    "jupyter": {
     "outputs_hidden": false
    },
    "pycharm": {
     "name": "#%%\n"
    }
   },
   "outputs": [],
   "source": []
  }
 ],
 "metadata": {
  "kernelspec": {
   "display_name": "Python 3 (ipykernel)",
   "language": "python",
   "name": "python3"
  },
  "language_info": {
   "codemirror_mode": {
    "name": "ipython",
    "version": 3
   },
   "file_extension": ".py",
   "mimetype": "text/x-python",
   "name": "python",
   "nbconvert_exporter": "python",
   "pygments_lexer": "ipython3",
   "version": "3.9.7"
  }
 },
 "nbformat": 4,
 "nbformat_minor": 4
}
