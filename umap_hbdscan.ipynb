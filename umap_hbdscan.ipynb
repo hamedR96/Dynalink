{
 "cells": [
  {
   "cell_type": "code",
   "execution_count": 1,
   "metadata": {
    "collapsed": false,
    "jupyter": {
     "outputs_hidden": false
    },
    "pycharm": {
     "name": "#%%\n"
    }
   },
   "outputs": [],
   "source": [
    "import pandas as pd\n",
    "import numpy as np\n",
    "from top2vec import Top2Vec\n",
    "import umap\n",
    "import hdbscan"
   ]
  },
  {
   "cell_type": "code",
   "execution_count": 9,
   "metadata": {
    "collapsed": false,
    "jupyter": {
     "outputs_hidden": false
    },
    "pycharm": {
     "name": "#%%\n"
    }
   },
   "outputs": [],
   "source": [
    "#d2v_model = Top2Vec.load(\"global_topic_model\")\n",
    "df=pd.read_pickle(\"embeddings_df.pkl\")\n",
    "#df"
   ]
  },
  {
   "cell_type": "code",
   "execution_count": 56,
   "metadata": {
    "collapsed": false,
    "jupyter": {
     "outputs_hidden": false
    },
    "pycharm": {
     "name": "#%%\n"
    }
   },
   "outputs": [],
   "source": [
    "#embedding_df = pd.DataFrame(df[\"embedding\"].tolist())\n",
    "#embedding_df.to_pickle(\"split_embedding_df.pkl\")"
   ]
  },
  {
   "cell_type": "code",
   "execution_count": 3,
   "metadata": {
    "collapsed": false,
    "jupyter": {
     "outputs_hidden": false
    },
    "pycharm": {
     "name": "#%%\n"
    }
   },
   "outputs": [
    {
     "data": {
      "text/html": [
       "<div>\n",
       "<style scoped>\n",
       "    .dataframe tbody tr th:only-of-type {\n",
       "        vertical-align: middle;\n",
       "    }\n",
       "\n",
       "    .dataframe tbody tr th {\n",
       "        vertical-align: top;\n",
       "    }\n",
       "\n",
       "    .dataframe thead th {\n",
       "        text-align: right;\n",
       "    }\n",
       "</style>\n",
       "<table border=\"1\" class=\"dataframe\">\n",
       "  <thead>\n",
       "    <tr style=\"text-align: right;\">\n",
       "      <th></th>\n",
       "      <th>0</th>\n",
       "      <th>1</th>\n",
       "      <th>2</th>\n",
       "      <th>3</th>\n",
       "      <th>4</th>\n",
       "      <th>5</th>\n",
       "      <th>6</th>\n",
       "      <th>7</th>\n",
       "      <th>8</th>\n",
       "      <th>9</th>\n",
       "      <th>...</th>\n",
       "      <th>390</th>\n",
       "      <th>391</th>\n",
       "      <th>392</th>\n",
       "      <th>393</th>\n",
       "      <th>394</th>\n",
       "      <th>395</th>\n",
       "      <th>396</th>\n",
       "      <th>397</th>\n",
       "      <th>398</th>\n",
       "      <th>399</th>\n",
       "    </tr>\n",
       "  </thead>\n",
       "  <tbody>\n",
       "    <tr>\n",
       "      <th>0</th>\n",
       "      <td>0.396037</td>\n",
       "      <td>-0.741110</td>\n",
       "      <td>0.341852</td>\n",
       "      <td>0.857692</td>\n",
       "      <td>-0.417658</td>\n",
       "      <td>0.294028</td>\n",
       "      <td>0.218831</td>\n",
       "      <td>-0.192391</td>\n",
       "      <td>-0.595826</td>\n",
       "      <td>-0.250312</td>\n",
       "      <td>...</td>\n",
       "      <td>-1.534146</td>\n",
       "      <td>0.995304</td>\n",
       "      <td>0.424521</td>\n",
       "      <td>0.137904</td>\n",
       "      <td>-0.232393</td>\n",
       "      <td>-0.033704</td>\n",
       "      <td>0.016174</td>\n",
       "      <td>0.166801</td>\n",
       "      <td>0.413055</td>\n",
       "      <td>-0.262440</td>\n",
       "    </tr>\n",
       "    <tr>\n",
       "      <th>1</th>\n",
       "      <td>-0.387797</td>\n",
       "      <td>0.338815</td>\n",
       "      <td>-0.121990</td>\n",
       "      <td>0.253079</td>\n",
       "      <td>0.590640</td>\n",
       "      <td>0.796522</td>\n",
       "      <td>0.098876</td>\n",
       "      <td>-0.458371</td>\n",
       "      <td>-0.620752</td>\n",
       "      <td>-0.589162</td>\n",
       "      <td>...</td>\n",
       "      <td>-0.436944</td>\n",
       "      <td>0.045635</td>\n",
       "      <td>-0.451533</td>\n",
       "      <td>0.391483</td>\n",
       "      <td>0.444561</td>\n",
       "      <td>-0.603195</td>\n",
       "      <td>-0.420243</td>\n",
       "      <td>0.137817</td>\n",
       "      <td>1.429348</td>\n",
       "      <td>-0.387673</td>\n",
       "    </tr>\n",
       "    <tr>\n",
       "      <th>2</th>\n",
       "      <td>-0.215167</td>\n",
       "      <td>-0.578092</td>\n",
       "      <td>0.479822</td>\n",
       "      <td>0.162658</td>\n",
       "      <td>-1.290096</td>\n",
       "      <td>0.688581</td>\n",
       "      <td>-0.865570</td>\n",
       "      <td>0.570763</td>\n",
       "      <td>0.807094</td>\n",
       "      <td>0.389215</td>\n",
       "      <td>...</td>\n",
       "      <td>-0.284947</td>\n",
       "      <td>0.759068</td>\n",
       "      <td>-0.099799</td>\n",
       "      <td>0.400715</td>\n",
       "      <td>0.113828</td>\n",
       "      <td>-0.531784</td>\n",
       "      <td>-0.747490</td>\n",
       "      <td>0.845616</td>\n",
       "      <td>0.807899</td>\n",
       "      <td>0.236230</td>\n",
       "    </tr>\n",
       "    <tr>\n",
       "      <th>3</th>\n",
       "      <td>-0.575811</td>\n",
       "      <td>-0.653567</td>\n",
       "      <td>-0.679593</td>\n",
       "      <td>0.252151</td>\n",
       "      <td>0.402311</td>\n",
       "      <td>0.717486</td>\n",
       "      <td>0.181090</td>\n",
       "      <td>1.157327</td>\n",
       "      <td>0.136519</td>\n",
       "      <td>1.334580</td>\n",
       "      <td>...</td>\n",
       "      <td>-1.042353</td>\n",
       "      <td>1.328544</td>\n",
       "      <td>0.349096</td>\n",
       "      <td>0.553178</td>\n",
       "      <td>0.500969</td>\n",
       "      <td>-0.857129</td>\n",
       "      <td>0.150952</td>\n",
       "      <td>0.128600</td>\n",
       "      <td>1.133797</td>\n",
       "      <td>-1.206802</td>\n",
       "    </tr>\n",
       "    <tr>\n",
       "      <th>4</th>\n",
       "      <td>0.033210</td>\n",
       "      <td>0.636067</td>\n",
       "      <td>0.064609</td>\n",
       "      <td>-0.455827</td>\n",
       "      <td>-0.330334</td>\n",
       "      <td>0.203690</td>\n",
       "      <td>-0.220788</td>\n",
       "      <td>-1.208259</td>\n",
       "      <td>0.704183</td>\n",
       "      <td>0.513124</td>\n",
       "      <td>...</td>\n",
       "      <td>0.089194</td>\n",
       "      <td>0.294234</td>\n",
       "      <td>-0.173324</td>\n",
       "      <td>-0.191531</td>\n",
       "      <td>-0.247166</td>\n",
       "      <td>0.198187</td>\n",
       "      <td>-0.267325</td>\n",
       "      <td>-0.254018</td>\n",
       "      <td>0.272673</td>\n",
       "      <td>0.124169</td>\n",
       "    </tr>\n",
       "    <tr>\n",
       "      <th>...</th>\n",
       "      <td>...</td>\n",
       "      <td>...</td>\n",
       "      <td>...</td>\n",
       "      <td>...</td>\n",
       "      <td>...</td>\n",
       "      <td>...</td>\n",
       "      <td>...</td>\n",
       "      <td>...</td>\n",
       "      <td>...</td>\n",
       "      <td>...</td>\n",
       "      <td>...</td>\n",
       "      <td>...</td>\n",
       "      <td>...</td>\n",
       "      <td>...</td>\n",
       "      <td>...</td>\n",
       "      <td>...</td>\n",
       "      <td>...</td>\n",
       "      <td>...</td>\n",
       "      <td>...</td>\n",
       "      <td>...</td>\n",
       "      <td>...</td>\n",
       "    </tr>\n",
       "    <tr>\n",
       "      <th>167310</th>\n",
       "      <td>-0.246261</td>\n",
       "      <td>-0.941684</td>\n",
       "      <td>-1.019604</td>\n",
       "      <td>-0.334360</td>\n",
       "      <td>0.678323</td>\n",
       "      <td>-0.086358</td>\n",
       "      <td>0.044939</td>\n",
       "      <td>-0.450601</td>\n",
       "      <td>0.625073</td>\n",
       "      <td>-0.301079</td>\n",
       "      <td>...</td>\n",
       "      <td>-0.278461</td>\n",
       "      <td>0.470800</td>\n",
       "      <td>-0.466676</td>\n",
       "      <td>0.099797</td>\n",
       "      <td>-0.453685</td>\n",
       "      <td>1.304788</td>\n",
       "      <td>0.119972</td>\n",
       "      <td>0.216056</td>\n",
       "      <td>0.762601</td>\n",
       "      <td>-1.603272</td>\n",
       "    </tr>\n",
       "    <tr>\n",
       "      <th>167311</th>\n",
       "      <td>1.104046</td>\n",
       "      <td>1.013738</td>\n",
       "      <td>-0.968146</td>\n",
       "      <td>-0.369497</td>\n",
       "      <td>-0.180911</td>\n",
       "      <td>-0.286809</td>\n",
       "      <td>-0.516989</td>\n",
       "      <td>1.088364</td>\n",
       "      <td>-0.104746</td>\n",
       "      <td>0.497194</td>\n",
       "      <td>...</td>\n",
       "      <td>0.716011</td>\n",
       "      <td>0.697803</td>\n",
       "      <td>-1.026692</td>\n",
       "      <td>-0.054380</td>\n",
       "      <td>-0.732758</td>\n",
       "      <td>0.075453</td>\n",
       "      <td>0.033948</td>\n",
       "      <td>-0.058556</td>\n",
       "      <td>0.820248</td>\n",
       "      <td>-0.107383</td>\n",
       "    </tr>\n",
       "    <tr>\n",
       "      <th>167312</th>\n",
       "      <td>0.081535</td>\n",
       "      <td>1.013272</td>\n",
       "      <td>-0.090237</td>\n",
       "      <td>0.294747</td>\n",
       "      <td>0.267512</td>\n",
       "      <td>-0.024668</td>\n",
       "      <td>-0.099083</td>\n",
       "      <td>-0.149464</td>\n",
       "      <td>0.796287</td>\n",
       "      <td>-0.004049</td>\n",
       "      <td>...</td>\n",
       "      <td>-0.491153</td>\n",
       "      <td>0.133740</td>\n",
       "      <td>-0.264432</td>\n",
       "      <td>0.518020</td>\n",
       "      <td>0.003275</td>\n",
       "      <td>0.601358</td>\n",
       "      <td>0.387685</td>\n",
       "      <td>-0.752912</td>\n",
       "      <td>0.580801</td>\n",
       "      <td>-0.545657</td>\n",
       "    </tr>\n",
       "    <tr>\n",
       "      <th>167313</th>\n",
       "      <td>-0.179525</td>\n",
       "      <td>-0.386405</td>\n",
       "      <td>0.176885</td>\n",
       "      <td>-0.910174</td>\n",
       "      <td>-0.144217</td>\n",
       "      <td>0.475400</td>\n",
       "      <td>0.025543</td>\n",
       "      <td>0.825063</td>\n",
       "      <td>-0.473437</td>\n",
       "      <td>-0.060305</td>\n",
       "      <td>...</td>\n",
       "      <td>-0.517387</td>\n",
       "      <td>-0.455301</td>\n",
       "      <td>-0.188981</td>\n",
       "      <td>-0.480566</td>\n",
       "      <td>-0.418823</td>\n",
       "      <td>0.439606</td>\n",
       "      <td>0.668205</td>\n",
       "      <td>-0.008087</td>\n",
       "      <td>0.680290</td>\n",
       "      <td>-0.892828</td>\n",
       "    </tr>\n",
       "    <tr>\n",
       "      <th>167314</th>\n",
       "      <td>-0.341143</td>\n",
       "      <td>0.360340</td>\n",
       "      <td>-0.352893</td>\n",
       "      <td>0.020150</td>\n",
       "      <td>1.286523</td>\n",
       "      <td>0.379297</td>\n",
       "      <td>1.071548</td>\n",
       "      <td>1.458523</td>\n",
       "      <td>0.575037</td>\n",
       "      <td>0.110580</td>\n",
       "      <td>...</td>\n",
       "      <td>-0.953593</td>\n",
       "      <td>-0.190841</td>\n",
       "      <td>0.032459</td>\n",
       "      <td>-0.423853</td>\n",
       "      <td>-0.081845</td>\n",
       "      <td>-0.054658</td>\n",
       "      <td>-0.074845</td>\n",
       "      <td>-0.126601</td>\n",
       "      <td>0.628484</td>\n",
       "      <td>0.137331</td>\n",
       "    </tr>\n",
       "  </tbody>\n",
       "</table>\n",
       "<p>167315 rows × 400 columns</p>\n",
       "</div>"
      ],
      "text/plain": [
       "             0         1         2         3         4         5         6    \\\n",
       "0       0.396037 -0.741110  0.341852  0.857692 -0.417658  0.294028  0.218831   \n",
       "1      -0.387797  0.338815 -0.121990  0.253079  0.590640  0.796522  0.098876   \n",
       "2      -0.215167 -0.578092  0.479822  0.162658 -1.290096  0.688581 -0.865570   \n",
       "3      -0.575811 -0.653567 -0.679593  0.252151  0.402311  0.717486  0.181090   \n",
       "4       0.033210  0.636067  0.064609 -0.455827 -0.330334  0.203690 -0.220788   \n",
       "...          ...       ...       ...       ...       ...       ...       ...   \n",
       "167310 -0.246261 -0.941684 -1.019604 -0.334360  0.678323 -0.086358  0.044939   \n",
       "167311  1.104046  1.013738 -0.968146 -0.369497 -0.180911 -0.286809 -0.516989   \n",
       "167312  0.081535  1.013272 -0.090237  0.294747  0.267512 -0.024668 -0.099083   \n",
       "167313 -0.179525 -0.386405  0.176885 -0.910174 -0.144217  0.475400  0.025543   \n",
       "167314 -0.341143  0.360340 -0.352893  0.020150  1.286523  0.379297  1.071548   \n",
       "\n",
       "             7         8         9    ...       390       391       392  \\\n",
       "0      -0.192391 -0.595826 -0.250312  ... -1.534146  0.995304  0.424521   \n",
       "1      -0.458371 -0.620752 -0.589162  ... -0.436944  0.045635 -0.451533   \n",
       "2       0.570763  0.807094  0.389215  ... -0.284947  0.759068 -0.099799   \n",
       "3       1.157327  0.136519  1.334580  ... -1.042353  1.328544  0.349096   \n",
       "4      -1.208259  0.704183  0.513124  ...  0.089194  0.294234 -0.173324   \n",
       "...          ...       ...       ...  ...       ...       ...       ...   \n",
       "167310 -0.450601  0.625073 -0.301079  ... -0.278461  0.470800 -0.466676   \n",
       "167311  1.088364 -0.104746  0.497194  ...  0.716011  0.697803 -1.026692   \n",
       "167312 -0.149464  0.796287 -0.004049  ... -0.491153  0.133740 -0.264432   \n",
       "167313  0.825063 -0.473437 -0.060305  ... -0.517387 -0.455301 -0.188981   \n",
       "167314  1.458523  0.575037  0.110580  ... -0.953593 -0.190841  0.032459   \n",
       "\n",
       "             393       394       395       396       397       398       399  \n",
       "0       0.137904 -0.232393 -0.033704  0.016174  0.166801  0.413055 -0.262440  \n",
       "1       0.391483  0.444561 -0.603195 -0.420243  0.137817  1.429348 -0.387673  \n",
       "2       0.400715  0.113828 -0.531784 -0.747490  0.845616  0.807899  0.236230  \n",
       "3       0.553178  0.500969 -0.857129  0.150952  0.128600  1.133797 -1.206802  \n",
       "4      -0.191531 -0.247166  0.198187 -0.267325 -0.254018  0.272673  0.124169  \n",
       "...          ...       ...       ...       ...       ...       ...       ...  \n",
       "167310  0.099797 -0.453685  1.304788  0.119972  0.216056  0.762601 -1.603272  \n",
       "167311 -0.054380 -0.732758  0.075453  0.033948 -0.058556  0.820248 -0.107383  \n",
       "167312  0.518020  0.003275  0.601358  0.387685 -0.752912  0.580801 -0.545657  \n",
       "167313 -0.480566 -0.418823  0.439606  0.668205 -0.008087  0.680290 -0.892828  \n",
       "167314 -0.423853 -0.081845 -0.054658 -0.074845 -0.126601  0.628484  0.137331  \n",
       "\n",
       "[167315 rows x 400 columns]"
      ]
     },
     "execution_count": 3,
     "metadata": {},
     "output_type": "execute_result"
    }
   ],
   "source": [
    "split_df = pd.read_pickle(\"split_embedding_df.pkl\")\n",
    "split_df"
   ]
  },
  {
   "cell_type": "code",
   "execution_count": 4,
   "metadata": {
    "collapsed": false,
    "jupyter": {
     "outputs_hidden": false
    },
    "pycharm": {
     "is_executing": true,
     "name": "#%%\n"
    }
   },
   "outputs": [],
   "source": [
    "umap_args = {'n_neighbors': 15,\n",
    "                         'n_components': 5,\n",
    "                         'metric': 'cosine'}\n",
    "\n",
    "umap_model = umap.UMAP(**umap_args).fit(split_df)"
   ]
  },
  {
   "cell_type": "code",
   "execution_count": 5,
   "metadata": {
    "collapsed": false,
    "jupyter": {
     "outputs_hidden": false
    },
    "pycharm": {
     "is_executing": true,
     "name": "#%%\n"
    }
   },
   "outputs": [],
   "source": [
    "hdbscan_args = {'min_cluster_size': 15,\n",
    "                    'metric': 'euclidean',\n",
    "                    'cluster_selection_method': 'eom'}\n",
    "\n",
    "cluster = hdbscan.HDBSCAN(**hdbscan_args).fit(umap_model.embedding_)"
   ]
  },
  {
   "cell_type": "code",
   "execution_count": 6,
   "metadata": {
    "collapsed": false,
    "jupyter": {
     "outputs_hidden": false
    },
    "pycharm": {
     "name": "#%%\n"
    }
   },
   "outputs": [],
   "source": [
    "labels_embeding=pd.DataFrame(cluster.labels_)\n",
    "#labels_embeding.to_pickle(\"clustered_split_embedding_df.pkl\")"
   ]
  },
  {
   "cell_type": "code",
   "execution_count": 7,
   "metadata": {
    "collapsed": false,
    "jupyter": {
     "outputs_hidden": false
    },
    "pycharm": {
     "name": "#%%\n"
    }
   },
   "outputs": [
    {
     "data": {
      "text/plain": [
       "0    719\n",
       "dtype: int64"
      ]
     },
     "execution_count": 7,
     "metadata": {},
     "output_type": "execute_result"
    }
   ],
   "source": [
    "#labels_embeding=pd.read_pickle(\"clustered_split_embedding_df.pkl\")\n",
    "labels_embeding.max()"
   ]
  },
  {
   "cell_type": "code",
   "execution_count": 10,
   "metadata": {},
   "outputs": [],
   "source": [
    "split_df = pd.DataFrame(df[\"d2v\"].tolist())"
   ]
  },
  {
   "cell_type": "code",
   "execution_count": 11,
   "metadata": {
    "tags": []
   },
   "outputs": [],
   "source": [
    "d2v_umap_model = umap.UMAP(**umap_args).fit(split_df)\n",
    "d2v_cluster = hdbscan.HDBSCAN(**hdbscan_args).fit(d2v_umap_model.embedding_)"
   ]
  },
  {
   "cell_type": "code",
   "execution_count": 12,
   "metadata": {},
   "outputs": [
    {
     "data": {
      "text/plain": [
       "0    652\n",
       "dtype: int64"
      ]
     },
     "execution_count": 12,
     "metadata": {},
     "output_type": "execute_result"
    }
   ],
   "source": [
    "labels_d2v=pd.DataFrame(d2v_cluster.labels_)\n",
    "labels_d2v.max()"
   ]
  },
  {
   "cell_type": "code",
   "execution_count": 13,
   "metadata": {},
   "outputs": [],
   "source": [
    "split_df = pd.DataFrame(df[\"n2v\"].tolist())"
   ]
  },
  {
   "cell_type": "code",
   "execution_count": 14,
   "metadata": {},
   "outputs": [],
   "source": [
    "n2v_umap_model = umap.UMAP(**umap_args).fit(split_df)\n",
    "n2v_cluster = hdbscan.HDBSCAN(**hdbscan_args).fit(n2v_umap_model.embedding_)"
   ]
  },
  {
   "cell_type": "code",
   "execution_count": 15,
   "metadata": {},
   "outputs": [
    {
     "data": {
      "text/plain": [
       "0    1212\n",
       "dtype: int64"
      ]
     },
     "execution_count": 15,
     "metadata": {},
     "output_type": "execute_result"
    }
   ],
   "source": [
    "labels_n2v=pd.DataFrame(n2v_cluster.labels_)\n",
    "labels_n2v.max()"
   ]
  },
  {
   "cell_type": "code",
   "execution_count": null,
   "metadata": {},
   "outputs": [],
   "source": [
    "dt = df.join(labels_embeding).rename(columns={0: \"cluster_hamed\"})\n",
    "dt=dt.rename(columns={0: \"cluster_hamed\"})\n",
    "dt"
   ]
  },
  {
   "cell_type": "code",
   "execution_count": 19,
   "metadata": {},
   "outputs": [
    {
     "data": {
      "text/html": [
       "<div>\n",
       "<style scoped>\n",
       "    .dataframe tbody tr th:only-of-type {\n",
       "        vertical-align: middle;\n",
       "    }\n",
       "\n",
       "    .dataframe tbody tr th {\n",
       "        vertical-align: top;\n",
       "    }\n",
       "\n",
       "    .dataframe thead th {\n",
       "        text-align: right;\n",
       "    }\n",
       "</style>\n",
       "<table border=\"1\" class=\"dataframe\">\n",
       "  <thead>\n",
       "    <tr style=\"text-align: right;\">\n",
       "      <th></th>\n",
       "      <th>id</th>\n",
       "      <th>d2v</th>\n",
       "      <th>n2v</th>\n",
       "      <th>embedding</th>\n",
       "      <th>cluster_hamed</th>\n",
       "      <th>cluster_d2v</th>\n",
       "    </tr>\n",
       "  </thead>\n",
       "  <tbody>\n",
       "    <tr>\n",
       "      <th>0</th>\n",
       "      <td>53e99792b7602d9701f5b074</td>\n",
       "      <td>[0.39603725, -0.74111044, 0.3418524, 0.8576919...</td>\n",
       "      <td>[-0.09072245, -0.030303808, -0.40753457, 0.176...</td>\n",
       "      <td>[0.39603725, -0.74111044, 0.3418524, 0.8576919...</td>\n",
       "      <td>-1</td>\n",
       "      <td>362</td>\n",
       "    </tr>\n",
       "    <tr>\n",
       "      <th>1</th>\n",
       "      <td>53e99792b7602d9701f5b0c6</td>\n",
       "      <td>[-0.38779727, 0.338815, -0.1219904, 0.25307924...</td>\n",
       "      <td>[0.6568281, -0.49985373, 0.55201745, 0.3894263...</td>\n",
       "      <td>[-0.38779727, 0.338815, -0.1219904, 0.25307924...</td>\n",
       "      <td>-1</td>\n",
       "      <td>650</td>\n",
       "    </tr>\n",
       "    <tr>\n",
       "      <th>2</th>\n",
       "      <td>53e99796b7602d9701f5c598</td>\n",
       "      <td>[-0.21516739, -0.5780924, 0.47982222, 0.162657...</td>\n",
       "      <td>[0.011421529, -0.23129684, -0.49107534, 0.4383...</td>\n",
       "      <td>[-0.21516739, -0.5780924, 0.47982222, 0.162657...</td>\n",
       "      <td>-1</td>\n",
       "      <td>-1</td>\n",
       "    </tr>\n",
       "    <tr>\n",
       "      <th>3</th>\n",
       "      <td>53e997b2b7602d9701f94f82</td>\n",
       "      <td>[-0.5758111, -0.653567, -0.6795933, 0.25215074...</td>\n",
       "      <td>[-0.6456314, 0.7384957, -1.0446429, 0.80300707...</td>\n",
       "      <td>[-0.5758111, -0.653567, -0.6795933, 0.25215074...</td>\n",
       "      <td>-1</td>\n",
       "      <td>611</td>\n",
       "    </tr>\n",
       "    <tr>\n",
       "      <th>4</th>\n",
       "      <td>53e997bdb7602d9701fa70a1</td>\n",
       "      <td>[0.033209704, 0.6360668, 0.06460852, -0.455827...</td>\n",
       "      <td>[-0.09184202, -0.24654393, -0.25318086, -0.027...</td>\n",
       "      <td>[0.033209704, 0.6360668, 0.06460852, -0.455827...</td>\n",
       "      <td>-1</td>\n",
       "      <td>582</td>\n",
       "    </tr>\n",
       "    <tr>\n",
       "      <th>...</th>\n",
       "      <td>...</td>\n",
       "      <td>...</td>\n",
       "      <td>...</td>\n",
       "      <td>...</td>\n",
       "      <td>...</td>\n",
       "      <td>...</td>\n",
       "    </tr>\n",
       "    <tr>\n",
       "      <th>167310</th>\n",
       "      <td>603769ebd3485cfff1df496d</td>\n",
       "      <td>[-0.24626103, -0.9416838, -1.0196036, -0.33435...</td>\n",
       "      <td>[0.17938909, -0.32548428, -0.80488026, -0.2462...</td>\n",
       "      <td>[-0.24626103, -0.9416838, -1.0196036, -0.33435...</td>\n",
       "      <td>-1</td>\n",
       "      <td>638</td>\n",
       "    </tr>\n",
       "    <tr>\n",
       "      <th>167311</th>\n",
       "      <td>60376a9fd3485cfff1e04286</td>\n",
       "      <td>[1.1040462, 1.0137384, -0.96814644, -0.3694967...</td>\n",
       "      <td>[-0.2947694, 0.058199216, -0.041943286, 0.2058...</td>\n",
       "      <td>[1.1040462, 1.0137384, -0.96814644, -0.3694967...</td>\n",
       "      <td>250</td>\n",
       "      <td>232</td>\n",
       "    </tr>\n",
       "    <tr>\n",
       "      <th>167312</th>\n",
       "      <td>60376ac3d3485cfff1e073a8</td>\n",
       "      <td>[0.08153506, 1.013272, -0.090237096, 0.2947468...</td>\n",
       "      <td>[0.59613883, 0.80953854, -0.32406732, -0.53713...</td>\n",
       "      <td>[0.08153506, 1.013272, -0.090237096, 0.2947468...</td>\n",
       "      <td>-1</td>\n",
       "      <td>511</td>\n",
       "    </tr>\n",
       "    <tr>\n",
       "      <th>167313</th>\n",
       "      <td>60376b1fd3485cfff1e0f547</td>\n",
       "      <td>[-0.17952514, -0.3864046, 0.17688523, -0.91017...</td>\n",
       "      <td>[-0.89069116, -0.38009772, 1.0061066, 0.686169...</td>\n",
       "      <td>[-0.17952514, -0.3864046, 0.17688523, -0.91017...</td>\n",
       "      <td>370</td>\n",
       "      <td>-1</td>\n",
       "    </tr>\n",
       "    <tr>\n",
       "      <th>167314</th>\n",
       "      <td>60376b2dd3485cfff1e10924</td>\n",
       "      <td>[-0.34114283, 0.3603398, -0.35289347, 0.020150...</td>\n",
       "      <td>[1.0222389, 0.95591897, -0.5300245, 0.35202828...</td>\n",
       "      <td>[-0.34114283, 0.3603398, -0.35289347, 0.020150...</td>\n",
       "      <td>570</td>\n",
       "      <td>-1</td>\n",
       "    </tr>\n",
       "  </tbody>\n",
       "</table>\n",
       "<p>167315 rows × 6 columns</p>\n",
       "</div>"
      ],
      "text/plain": [
       "                              id  \\\n",
       "0       53e99792b7602d9701f5b074   \n",
       "1       53e99792b7602d9701f5b0c6   \n",
       "2       53e99796b7602d9701f5c598   \n",
       "3       53e997b2b7602d9701f94f82   \n",
       "4       53e997bdb7602d9701fa70a1   \n",
       "...                          ...   \n",
       "167310  603769ebd3485cfff1df496d   \n",
       "167311  60376a9fd3485cfff1e04286   \n",
       "167312  60376ac3d3485cfff1e073a8   \n",
       "167313  60376b1fd3485cfff1e0f547   \n",
       "167314  60376b2dd3485cfff1e10924   \n",
       "\n",
       "                                                      d2v  \\\n",
       "0       [0.39603725, -0.74111044, 0.3418524, 0.8576919...   \n",
       "1       [-0.38779727, 0.338815, -0.1219904, 0.25307924...   \n",
       "2       [-0.21516739, -0.5780924, 0.47982222, 0.162657...   \n",
       "3       [-0.5758111, -0.653567, -0.6795933, 0.25215074...   \n",
       "4       [0.033209704, 0.6360668, 0.06460852, -0.455827...   \n",
       "...                                                   ...   \n",
       "167310  [-0.24626103, -0.9416838, -1.0196036, -0.33435...   \n",
       "167311  [1.1040462, 1.0137384, -0.96814644, -0.3694967...   \n",
       "167312  [0.08153506, 1.013272, -0.090237096, 0.2947468...   \n",
       "167313  [-0.17952514, -0.3864046, 0.17688523, -0.91017...   \n",
       "167314  [-0.34114283, 0.3603398, -0.35289347, 0.020150...   \n",
       "\n",
       "                                                      n2v  \\\n",
       "0       [-0.09072245, -0.030303808, -0.40753457, 0.176...   \n",
       "1       [0.6568281, -0.49985373, 0.55201745, 0.3894263...   \n",
       "2       [0.011421529, -0.23129684, -0.49107534, 0.4383...   \n",
       "3       [-0.6456314, 0.7384957, -1.0446429, 0.80300707...   \n",
       "4       [-0.09184202, -0.24654393, -0.25318086, -0.027...   \n",
       "...                                                   ...   \n",
       "167310  [0.17938909, -0.32548428, -0.80488026, -0.2462...   \n",
       "167311  [-0.2947694, 0.058199216, -0.041943286, 0.2058...   \n",
       "167312  [0.59613883, 0.80953854, -0.32406732, -0.53713...   \n",
       "167313  [-0.89069116, -0.38009772, 1.0061066, 0.686169...   \n",
       "167314  [1.0222389, 0.95591897, -0.5300245, 0.35202828...   \n",
       "\n",
       "                                                embedding  cluster_hamed  \\\n",
       "0       [0.39603725, -0.74111044, 0.3418524, 0.8576919...             -1   \n",
       "1       [-0.38779727, 0.338815, -0.1219904, 0.25307924...             -1   \n",
       "2       [-0.21516739, -0.5780924, 0.47982222, 0.162657...             -1   \n",
       "3       [-0.5758111, -0.653567, -0.6795933, 0.25215074...             -1   \n",
       "4       [0.033209704, 0.6360668, 0.06460852, -0.455827...             -1   \n",
       "...                                                   ...            ...   \n",
       "167310  [-0.24626103, -0.9416838, -1.0196036, -0.33435...             -1   \n",
       "167311  [1.1040462, 1.0137384, -0.96814644, -0.3694967...            250   \n",
       "167312  [0.08153506, 1.013272, -0.090237096, 0.2947468...             -1   \n",
       "167313  [-0.17952514, -0.3864046, 0.17688523, -0.91017...            370   \n",
       "167314  [-0.34114283, 0.3603398, -0.35289347, 0.020150...            570   \n",
       "\n",
       "        cluster_d2v  \n",
       "0               362  \n",
       "1               650  \n",
       "2                -1  \n",
       "3               611  \n",
       "4               582  \n",
       "...             ...  \n",
       "167310          638  \n",
       "167311          232  \n",
       "167312          511  \n",
       "167313           -1  \n",
       "167314           -1  \n",
       "\n",
       "[167315 rows x 6 columns]"
      ]
     },
     "execution_count": 19,
     "metadata": {},
     "output_type": "execute_result"
    }
   ],
   "source": [
    "dt = dt.join(labels_d2v).rename(columns={0: \"cluster_d2v\"})\n",
    "dt=dt.rename(columns={0: \"cluster_d2v\"})\n",
    "dt"
   ]
  },
  {
   "cell_type": "code",
   "execution_count": 20,
   "metadata": {},
   "outputs": [],
   "source": [
    "dt.to_pickle(\"clustered_embeddings_df_test.pkl\")"
   ]
  },
  {
   "cell_type": "code",
   "execution_count": null,
   "metadata": {},
   "outputs": [],
   "source": []
  }
 ],
 "metadata": {
  "kernelspec": {
   "display_name": "Python 3 (ipykernel)",
   "language": "python",
   "name": "python3"
  },
  "language_info": {
   "codemirror_mode": {
    "name": "ipython",
    "version": 3
   },
   "file_extension": ".py",
   "mimetype": "text/x-python",
   "name": "python",
   "nbconvert_exporter": "python",
   "pygments_lexer": "ipython3",
   "version": "3.9.7"
  }
 },
 "nbformat": 4,
 "nbformat_minor": 4
}
