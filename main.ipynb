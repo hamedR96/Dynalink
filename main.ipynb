{
 "cells": [
  {
   "cell_type": "code",
   "execution_count": 88,
   "id": "ab15de00-54d7-49b1-915b-81fef68f4d57",
   "metadata": {},
   "outputs": [],
   "source": [
    "import pickle\n",
    "import pandas as pd\n",
    "from top2vec import Top2Vec\n",
    "import numpy as np\n",
    "import networkx as nx\n",
    "from gensim.models import Word2Vec\n",
    "from sklearn.metrics.pairwise import cosine_similarity\n",
    "import gensim\n",
    "from gensim.utils import tokenize\n",
    "import gensim.corpora as corpora\n",
    "from gensim.models import CoherenceModel\n",
    "from gensim.models import Phrases\n",
    "from gensim.models.phrases import Phraser\n",
    "from gensim.utils import simple_preprocess\n",
    "from gensim.parsing.preprocessing import strip_tags\n",
    "from gensim.test.utils import datapath\n",
    "from gensim.models import KeyedVectors\n",
    "\n",
    "from dataframe_generator_1 import d2v_pandas_generator, n2v_df\n",
    "from clustering_2 import clustering\n",
    "from topic_representation_3 import ctfidf_f,topic_dictionary,doc2word,ctf_idf_topics\n",
    "from diversity_metrics_4 import *\n",
    "\n"
   ]
  },
  {
   "cell_type": "code",
   "execution_count": 3,
   "id": "6130ace1-423f-4a1c-be40-b37873460ba9",
   "metadata": {},
   "outputs": [],
   "source": [
    "#################################\n",
    "## Read Data and Doc2Vec Model ##\n",
    "#################################\n",
    "\n",
    "references_df = pd.read_pickle(\"pandas_data.pkl\")\n",
    "d2v_model = Top2Vec.load(\"global_topic_model\")"
   ]
  },
  {
   "cell_type": "code",
   "execution_count": 4,
   "id": "21cea234-24b4-495d-a84e-ac14a4e8a7d5",
   "metadata": {},
   "outputs": [],
   "source": [
    "###################################################\n",
    "### Import citation graph and Node2Vec Model ######\n",
    "###################################################\n",
    "\n",
    "#G=nx.read_graphml(\"citation_graph.gz\")\n",
    "\n",
    "#node2vec = Node2Vec(G, dimensions=100, walk_length=30, num_walks=3000, workers=4)\n",
    "#n2v_model = node2vec.fit(window=10, min_count=1, batch_words=4)\n",
    "#node2vec.save(\"embeddings.model\")\n",
    "\n",
    "n2v_model = Word2Vec.load(\"embeddings.model\")"
   ]
  },
  {
   "cell_type": "code",
   "execution_count": 14,
   "id": "2fda65bc-e40b-45de-9b11-9205257511f9",
   "metadata": {},
   "outputs": [],
   "source": [
    "###############################################################\n",
    "### Generate Pandas DataFrame with Documents embeddings ######\n",
    "###############################################################\n",
    "\n",
    "df=d2v_pandas_generator(d2v_model,references_df)\n",
    "df=df[[\"d2v\",\"id\"]]\n",
    "df[\"n2v\"]=df.apply(lambda row: n2v_df(row[\"id\"]), axis=1)\n",
    "df=df.dropna()\n",
    "df[\"c2v\"]=df.apply(lambda row: np.concatenate((row['d2v'], row['n2v']), axis=None), axis=1)\n",
    "df=df.reset_index()\n",
    "df=df[[\"id\",\"d2v\",\"n2v\",\"c2v\"]]"
   ]
  },
  {
   "cell_type": "code",
   "execution_count": 15,
   "id": "b9ee6a5d-2618-4ab5-85d5-8d919c930c06",
   "metadata": {},
   "outputs": [],
   "source": [
    "#SAVING DATAFrame\n",
    "df.to_pickle(\"1-embeddings_df.pkl\")"
   ]
  },
  {
   "cell_type": "markdown",
   "id": "3cb6c8c6-f122-45a6-8bb1-48cda1131fc9",
   "metadata": {},
   "source": [
    "################\n",
    "###  Clustering\n",
    "################"
   ]
  },
  {
   "cell_type": "code",
   "execution_count": 22,
   "id": "aa0586ff-ddd1-4b66-9237-5e5b7699ee11",
   "metadata": {},
   "outputs": [],
   "source": [
    "#####################################\n",
    "### Prep Data for Clusterings #######\n",
    "#####################################\n",
    "\n",
    "#split_c2v_df = pd.DataFrame(df[\"c2v\"].tolist())\n",
    "#split_c2v_df.to_pickle(\"2-split_c2v_df.pkl\")\n",
    "split_c2v_df = pd.read_pickle(\"2-split_c2v_df.pkl\")\n",
    "\n",
    "#split_n2v_df = pd.DataFrame(df[\"n2v\"].tolist())\n",
    "#split_n2v_df.to_pickle(\"2-split_n2v_df.pkl\")\n",
    "split_n2v_df = pd.read_pickle(\"2-split_n2v_df.pkl\")\n",
    "\n",
    "#split_d2v_df = pd.DataFrame(df[\"d2v\"].tolist())\n",
    "#split_d2v_df.to_pickle(\"2-split_d2v_df.pkl\")\n",
    "split_d2v_df = pd.read_pickle(\"2-split_d2v_df.pkl\")"
   ]
  },
  {
   "cell_type": "code",
   "execution_count": 24,
   "id": "5f7ad0c6-80f0-452f-a74b-f538098a0292",
   "metadata": {},
   "outputs": [],
   "source": [
    "#####################################\n",
    "### Clustering the embeddings #######\n",
    "#####################################\n",
    "\n",
    "umap_args = {'n_neighbors': 15,\n",
    "                         'n_components': 5,\n",
    "                         'metric': 'cosine'}\n",
    "\n",
    "hdbscan_args = {'min_cluster_size': 15,\n",
    "                    'metric': 'euclidean',\n",
    "                    'cluster_selection_method': 'eom'}\n",
    "\n",
    "cluster_c2v=clustering(split_c2v_df,umap_args,hdbscan_args)\n",
    "cluster_n2v=clustering(split_n2v_df,umap_args,hdbscan_args)\n",
    "cluster_d2v=clustering(split_d2v_df,umap_args,hdbscan_args)"
   ]
  },
  {
   "cell_type": "code",
   "execution_count": 26,
   "id": "eb3ea2b3-04fe-405e-86e6-dc9bd7b0ca48",
   "metadata": {},
   "outputs": [],
   "source": [
    "#########################################\n",
    "### Clustering to Pandas DataFrame ######\n",
    "#########################################\n",
    "cluster_c2v_labels=pd.DataFrame(cluster_c2v.labels_)\n",
    "cluster_n2v_labels=pd.DataFrame(cluster_n2v.labels_)\n",
    "cluster_d2v_labels=pd.DataFrame(cluster_d2v.labels_)\n",
    "\n",
    "cluster_c2v_labels.to_pickle(\"3-clustered_split_c2v_df.pkl\")\n",
    "cluster_n2v_labels.to_pickle(\"3-clustered_split_n2v_df.pkl\")\n",
    "cluster_d2v_labels.to_pickle(\"3-clustered_split_d2v_df.pkl\")"
   ]
  },
  {
   "cell_type": "code",
   "execution_count": 31,
   "id": "2a0f6239-c325-4888-b920-2b72b244de67",
   "metadata": {},
   "outputs": [
    {
     "name": "stdout",
     "output_type": "stream",
     "text": [
      "number of clusters in d2v embeddings are: 665\n",
      "number of clusters in n2v embeddings are: 1229\n",
      "number of clusters in proposed embeddings are: 738\n"
     ]
    }
   ],
   "source": [
    "#PRINTING THE SIZE OF CLUSTERED\n",
    "print(\"number of clusters in d2v embeddings are:\",cluster_d2v_labels.max()[0])\n",
    "print(\"number of clusters in n2v embeddings are:\",cluster_n2v_labels.max()[0])\n",
    "print(\"number of clusters in proposed embeddings are:\",cluster_c2v_labels.max()[0])"
   ]
  },
  {
   "cell_type": "code",
   "execution_count": 39,
   "id": "a01605c0-8132-42fb-87e6-6257bc6511ad",
   "metadata": {},
   "outputs": [],
   "source": [
    "#JOINING and SAVING clustered_embeddings DataFrame\n",
    "dt = df.join(cluster_c2v_labels).rename(columns={0: \"cluster_c2v\"})\n",
    "dt = dt.join(cluster_d2v_labels).rename(columns={0: \"cluster_d2v\"})\n",
    "dt = dt.join(cluster_n2v_labels).rename(columns={0: \"cluster_n2v\"})\n",
    "dt.to_pickle(\"3-clustered_embeddings_df.pkl\")"
   ]
  },
  {
   "cell_type": "markdown",
   "id": "fd18960a-1845-4f5b-850e-d3f1d89f89aa",
   "metadata": {},
   "source": [
    "#########################################\n",
    "### TOPIC REPRESENTATION 1: TF-IDF #########\n",
    "#########################################"
   ]
  },
  {
   "cell_type": "code",
   "execution_count": 43,
   "id": "4a66ec85-704d-4556-a6db-8c38865ba92c",
   "metadata": {
    "tags": []
   },
   "outputs": [],
   "source": [
    "\n",
    "docs_c2v=dt[[\"id\",\"cluster_c2v\"]].merge(references_df[[\"id\",\"abstract\"]],how='inner', on=\"id\")\n",
    "docs_c2v=docs_c2v.dropna()\n",
    "docs_c2v=docs_c2v[docs_c2v[\"cluster_c2v\"]!=-1]\n",
    "\n",
    "docs_d2v=dt[[\"id\",\"cluster_d2v\"]].merge(references_df[[\"id\",\"abstract\"]],how='inner', on=\"id\")\n",
    "docs_d2v=docs_d2v.dropna()\n",
    "docs_d2v=docs_d2v[docs_d2v[\"cluster_d2v\"]!=-1]\n",
    "\n",
    "docs_n2v=dt[[\"id\",\"cluster_n2v\"]].merge(references_df[[\"id\",\"abstract\"]],how='inner', on=\"id\")\n",
    "docs_n2v=docs_n2v.dropna()\n",
    "docs_n2v=docs_n2v[docs_n2v[\"cluster_n2v\"]!=-1]\n",
    "\n",
    "c2v_docs_per_class= docs_c2v.groupby(['cluster_c2v'], as_index=False).agg({'abstract': ' '.join})\n",
    "d2v_docs_per_class= docs_d2v.groupby(['cluster_d2v'], as_index=False).agg({'abstract': ' '.join})\n",
    "n2v_docs_per_class= docs_n2v.groupby(['cluster_n2v'], as_index=False).agg({'abstract': ' '.join})"
   ]
  },
  {
   "cell_type": "code",
   "execution_count": 57,
   "id": "699d5db2-4c56-4ecb-aae3-f10ddb7e7779",
   "metadata": {},
   "outputs": [],
   "source": [
    "words_c2v,ctfidf_c2v=ctfidf_f(c2v_docs_per_class,len(docs_c2v))\n",
    "words_d2v,ctfidf_d2v=ctfidf_f(d2v_docs_per_class,len(docs_d2v))\n",
    "words_n2v,ctfidf_n2v=ctfidf_f(n2v_docs_per_class,len(docs_n2v))"
   ]
  },
  {
   "cell_type": "code",
   "execution_count": 58,
   "id": "50f9497d-adf4-4a58-8745-09415c1a38d4",
   "metadata": {},
   "outputs": [],
   "source": [
    "topics_ctfidf_c2v=ctf_idf_topics(c2v_docs_per_class.cluster_c2v,words_c2v,ctfidf_c2v,10)\n",
    "topics_ctfidf_d2v=ctf_idf_topics(d2v_docs_per_class.cluster_d2v,words_d2v,ctfidf_d2v,10)\n",
    "topics_ctfidf_n2v=ctf_idf_topics(n2v_docs_per_class.cluster_n2v,words_n2v,ctfidf_n2v,10)"
   ]
  },
  {
   "cell_type": "code",
   "execution_count": 81,
   "id": "19b5c06f-f514-4c32-90ac-11623462f95a",
   "metadata": {},
   "outputs": [],
   "source": [
    "tr1=[topics_ctfidf_c2v,topics_ctfidf_d2v,topics_ctfidf_n2v]"
   ]
  },
  {
   "cell_type": "code",
   "execution_count": 63,
   "id": "b224f3bd-0b1c-4015-a93f-3c3e22bd6ed5",
   "metadata": {},
   "outputs": [],
   "source": [
    "\n",
    "with open('4-c2v_ctfidf-topics.pkl', 'wb') as f:\n",
    "    pickle.dump(topics_ctfidf_c2v, f)\n",
    "with open('4-d2v_ctfidf-topics.pkl', 'wb') as f:\n",
    "    pickle.dump(topics_ctfidf_d2v, f)\n",
    "with open('4-n2v_ctfidf-topics.pkl', 'wb') as f:\n",
    "    pickle.dump(topics_ctfidf_n2v, f)"
   ]
  },
  {
   "cell_type": "code",
   "execution_count": 64,
   "id": "48b8ba89-8ecf-482a-8874-2e36836cc4bc",
   "metadata": {},
   "outputs": [],
   "source": [
    "# Get similar categories\n",
    "\n",
    "similarity_c2v_ctfidf = cosine_similarity(ctfidf_c2v, ctfidf_c2v)\n",
    "similarity_d2v_ctfidf = cosine_similarity(ctfidf_d2v, ctfidf_d2v)\n",
    "similarity_n2v_ctfidf = cosine_similarity(ctfidf_n2v, ctfidf_n2v)\n",
    "\n",
    "np.fill_diagonal(similarity_c2v_ctfidf, 0)\n",
    "np.fill_diagonal(similarity_d2v_ctfidf, 0)\n",
    "np.fill_diagonal(similarity_n2v_ctfidf, 0)\n",
    "\n",
    "#result = pd.DataFrame([(index, distances[index].argmax(),distances[index].max()) for index in range(len(docs_per_class))],columns=[\"From\", \"To\",\"Similarity\"])\n",
    "#result[result[\"Similarity\"]>0.8].groupby(\"To\")[\"From\"].apply(list)\n",
    "# result.head(5).values.tolist()\n"
   ]
  },
  {
   "cell_type": "markdown",
   "id": "1e43a651-8f69-4b14-8a2d-c2be8137c556",
   "metadata": {},
   "source": [
    "######################################################################################\n",
    "### TOPIC REPRESENTATION 2: Calculating Centroids in Original Dimensional Space ######\n",
    "######################################################################################"
   ]
  },
  {
   "cell_type": "code",
   "execution_count": 70,
   "id": "50ebec16-3fb9-4471-9e3f-1fb3b674e02e",
   "metadata": {},
   "outputs": [],
   "source": [
    "ids_per_class_c2v= docs_c2v.groupby(\"cluster_c2v\")[\"id\"].apply(list).reset_index()\n",
    "ids_per_class_d2v= docs_d2v.groupby(\"cluster_d2v\")[\"id\"].apply(list).reset_index()\n",
    "ids_per_class_n2v= docs_n2v.groupby(\"cluster_n2v\")[\"id\"].apply(list).reset_index()"
   ]
  },
  {
   "cell_type": "code",
   "execution_count": 71,
   "id": "f8312dde-bf0e-4c22-b494-df04100eaa81",
   "metadata": {},
   "outputs": [],
   "source": [
    "rev_dic_ids,dic_ids=topic_dictionary(d2v_model,references_df)"
   ]
  },
  {
   "cell_type": "code",
   "execution_count": 73,
   "id": "c1b07cd3-1b19-4c60-af58-cba137eee0ef",
   "metadata": {},
   "outputs": [],
   "source": [
    "ids_per_class_c2v[\"topic_c2v\"]=ids_per_class_c2v.apply(lambda row: doc2word(d2v_model,dic_ids,row[\"id\"],10), axis=1)\n",
    "ids_per_class_d2v[\"topic_d2v\"]=ids_per_class_d2v.apply(lambda row: doc2word(d2v_model,dic_ids,row[\"id\"],10), axis=1)\n",
    "ids_per_class_n2v[\"topic_n2v\"]=ids_per_class_n2v.apply(lambda row: doc2word(d2v_model,dic_ids,row[\"id\"],10), axis=1)"
   ]
  },
  {
   "cell_type": "code",
   "execution_count": 77,
   "id": "8724b0b1-31e7-4ffc-8be6-c7cf97adb08d",
   "metadata": {},
   "outputs": [],
   "source": [
    "list_topics_c2v=list(ids_per_class_c2v[\"topic_c2v\"])\n",
    "list_topics_d2v=list(ids_per_class_d2v[\"topic_d2v\"])\n",
    "list_topics_n2v=list(ids_per_class_n2v[\"topic_n2v\"])"
   ]
  },
  {
   "cell_type": "code",
   "execution_count": 80,
   "id": "e8f50a27-2510-4028-b1cd-e9baf7d7993e",
   "metadata": {},
   "outputs": [],
   "source": [
    "tr2=[list_topics_c2v,list_topics_d2v,list_topics_n2v]"
   ]
  },
  {
   "cell_type": "markdown",
   "id": "8c96566e-c127-45bc-a963-e301a7118b3a",
   "metadata": {},
   "source": [
    "######################################################################################\n",
    "### Validation 1: TOPIC Diversity (TD) ######\n",
    "######################################################################################"
   ]
  },
  {
   "cell_type": "code",
   "execution_count": 84,
   "id": "e1b3e442-e017-4f3f-9e64-f2c5c9eec99d",
   "metadata": {},
   "outputs": [
    {
     "name": "stdout",
     "output_type": "stream",
     "text": [
      "proportion_unique_words for CTF-IDF:\n",
      "proposed: 0.7294993234100136 d2v: 0.6734234234234234 n2v: 0.6884552845528455\n",
      "proportion_unique_words for Centroids:\n",
      "proposed: 0.5721244925575102 d2v: 0.5213213213213214 n2v: 0.37154471544715445\n"
     ]
    }
   ],
   "source": [
    "print(\"proportion_unique_words for CTF-IDF:\")\n",
    "print(\"proposed:\",proportion_unique_words(tr1[0], topk=10),\"d2v:\",proportion_unique_words(tr1[1], topk=10),\"n2v:\",proportion_unique_words(tr1[2], topk=10))\n",
    "print(\"proportion_unique_words for Centroids:\")\n",
    "print(\"proposed:\",proportion_unique_words(tr2[0], topk=10),\"d2v:\",proportion_unique_words(tr2[1], topk=10),\"n2v:\",proportion_unique_words(tr2[2], topk=10))"
   ]
  },
  {
   "cell_type": "code",
   "execution_count": 85,
   "id": "77913f05-9a0d-468d-856d-889dbc85f9c8",
   "metadata": {},
   "outputs": [
    {
     "name": "stdout",
     "output_type": "stream",
     "text": [
      "pairwise_jaccard_diversity for CTF-IDF:\n",
      "proposed: 0.9981726020933082 d2v: 0.9794133801232939 n2v: 0.9990555717013562\n",
      "pairwise_jaccard_diversity for Centroids:\n",
      "proposed: 0.9977928426816666 d2v: 0.972345523138109 n2v: 0.9977374871391742\n"
     ]
    }
   ],
   "source": [
    "print(\"pairwise_jaccard_diversity for CTF-IDF:\")\n",
    "print(\"proposed:\",pairwise_jaccard_diversity(tr1[0], topk=10),\"d2v:\",pairwise_jaccard_diversity(tr1[1], topk=10),\"n2v:\",pairwise_jaccard_diversity(tr1[2], topk=10))\n",
    "print(\"pairwise_jaccard_diversity for Centroids:\")\n",
    "print(\"proposed:\",pairwise_jaccard_diversity(tr2[0], topk=10),\"d2v:\",pairwise_jaccard_diversity(tr2[1], topk=10),\"n2v:\",pairwise_jaccard_diversity(tr2[2], topk=10))"
   ]
  },
  {
   "cell_type": "code",
   "execution_count": 87,
   "id": "550c7ec6-070e-4386-8e9a-17ef1136b283",
   "metadata": {},
   "outputs": [
    {
     "name": "stdout",
     "output_type": "stream",
     "text": [
      "Inverted Rank-Biased Overlap (weight=0.5) for CTF-IDF:\n",
      "proposed: 0.9997594199260066 d2v: 0.9920952622757917 n2v: 0.9997987931136171\n",
      "Inverted Rank-Biased Overlap (weight=0.5)for Centroids:\n",
      "proposed: 0.9986411755640691 d2v: 0.9730698496829155 n2v: 0.9986577188997542\n"
     ]
    }
   ],
   "source": [
    "print(\"Inverted Rank-Biased Overlap (weight=0.5) for CTF-IDF:\")\n",
    "print(\"proposed:\",irbo(tr1[0], weight=0.5, topk=10),\"d2v:\",irbo(tr1[1], weight=0.5, topk=10),\"n2v:\",irbo(tr1[2], weight=0.5, topk=10))\n",
    "print(\"Inverted Rank-Biased Overlap (weight=0.5)for Centroids:\")\n",
    "print(\"proposed:\",irbo(tr2[0], weight=0.5, topk=10),\"d2v:\",irbo(tr2[1], weight=0.5, topk=10),\"n2v:\",irbo(tr2[2], weight=0.5, topk=10))"
   ]
  },
  {
   "cell_type": "code",
   "execution_count": 86,
   "id": "283efcac-93e8-4b16-a738-7a4e05f64678",
   "metadata": {},
   "outputs": [
    {
     "name": "stdout",
     "output_type": "stream",
     "text": [
      "Inverted Rank-Biased Overlap (weight=0.9) for CTF-IDF:\n",
      "proposed: 0.9983027121182894 d2v: 0.9814903422338506 n2v: 0.9990469250798938\n",
      "Inverted Rank-Biased Overlap (weight=0.9)for Centroids:\n",
      "proposed: 0.9974352306642534 d2v: 0.9685636404699142 n2v: 0.9974417292610084\n"
     ]
    }
   ],
   "source": [
    "print(\"Inverted Rank-Biased Overlap (weight=0.9) for CTF-IDF:\")\n",
    "print(\"proposed:\",irbo(tr1[0],weight=0.9, topk=10),\"d2v:\",irbo(tr1[1],weight=0.9, topk=10),\"n2v:\",irbo(tr1[2],weight=0.9, topk=10))\n",
    "print(\"Inverted Rank-Biased Overlap (weight=0.9)for Centroids:\")\n",
    "print(\"proposed:\",irbo(tr2[0],weight=0.9, topk=10),\"d2v:\",irbo(tr2[1],weight=0.9, topk=10),\"n2v:\",irbo(tr2[2],weight=0.9, topk=10))"
   ]
  },
  {
   "cell_type": "code",
   "execution_count": null,
   "id": "3305399c-b71c-47f9-983e-5f09c14477ad",
   "metadata": {},
   "outputs": [],
   "source": [
    "#print(\"we-pd:\", pairwise_word_embedding_distance(topics, wv, topk=10))\n",
    "#print(\"we-cd:\", centroid_distance(topics, wv, topk=10))\n",
    "#print(\"we-irbo p=0.5:\",word_embedding_irbo(topics,wv, weight=0.5, topk=10))\n",
    "#print(\"we-irbo p=0.9:\",word_embedding_irbo(topics,wv, weight=0.9, topk=10))"
   ]
  },
  {
   "cell_type": "markdown",
   "id": "e6cab1a3-082c-4408-8ad8-d44925f5e1b2",
   "metadata": {},
   "source": [
    "######################################################################################\n",
    "### Validation 2: Topic Coherence (TC) ######\n",
    "######################################################################################"
   ]
  },
  {
   "cell_type": "code",
   "execution_count": 89,
   "id": "a13a5bbb-c4b7-4f74-837f-03da3186eea4",
   "metadata": {},
   "outputs": [],
   "source": [
    "def bigrammer(doc):\n",
    "    sentence_stream = simple_preprocess(strip_tags(doc), deacc=True)\n",
    "    return bigram_phraser[sentence_stream]\n",
    "\n",
    "abstract_list=references_df[\"abstract\"]\n",
    "sentence_stream = [doc.split(\" \") for doc in  abstract_list]\n",
    "bigram = Phrases(sentence_stream, min_count=5, threshold=100, delimiter=b' ')\n",
    "bigram_phraser = Phraser(bigram)"
   ]
  },
  {
   "cell_type": "code",
   "execution_count": 90,
   "id": "c29e9ef7-ebf6-439c-ae3b-b3615ee8a083",
   "metadata": {},
   "outputs": [],
   "source": [
    "tokenized = [list(bigrammer(doc)) for doc in abstract_list]\n",
    "id2word = corpora.Dictionary(tokenized)\n",
    "corpus = [id2word.doc2bow(text) for text in tokenized]"
   ]
  },
  {
   "cell_type": "code",
   "execution_count": 91,
   "id": "f3068310-df54-493e-b775-333b1407116f",
   "metadata": {},
   "outputs": [
    {
     "name": "stdout",
     "output_type": "stream",
     "text": [
      "Model Coherence C_V for c2v is:0.6899732083622436\n"
     ]
    }
   ],
   "source": [
    "cm_c2v = CoherenceModel(topics=tr2[0] ,texts=tokenized,\n",
    "                    corpus=corpus, dictionary=id2word, coherence='c_v')\n",
    "\n",
    "print(\"Model Coherence C_V for c2v is:{0}\".format(cm_c2v.get_coherence()))"
   ]
  },
  {
   "cell_type": "code",
   "execution_count": 92,
   "id": "1debfb28-6e16-40e6-9a94-b9e0a5288bbd",
   "metadata": {},
   "outputs": [
    {
     "name": "stdout",
     "output_type": "stream",
     "text": [
      "Model Coherence C_V for d2v is:0.6226364892136502\n"
     ]
    }
   ],
   "source": [
    "cm_d2v = CoherenceModel(topics=tr2[1] ,texts=tokenized,\n",
    "                    corpus=corpus, dictionary=id2word, coherence='c_v')\n",
    "\n",
    "print(\"Model Coherence C_V for d2v is:{0}\".format(cm_d2v.get_coherence()))"
   ]
  },
  {
   "cell_type": "code",
   "execution_count": 93,
   "id": "1bf8f8d0-f841-4e18-9f28-976182ec69f8",
   "metadata": {},
   "outputs": [
    {
     "name": "stdout",
     "output_type": "stream",
     "text": [
      "Model Coherence C_V for n2v is:0.6641412459989379\n"
     ]
    }
   ],
   "source": [
    "cm_n2v = CoherenceModel(topics=tr2[2] ,texts=tokenized,\n",
    "                    corpus=corpus, dictionary=id2word, coherence='c_v')\n",
    "\n",
    "print(\"Model Coherence C_V for n2v is:{0}\".format(cm_n2v.get_coherence()))"
   ]
  },
  {
   "cell_type": "code",
   "execution_count": null,
   "id": "384b0d67-2727-4858-ac95-cab97fd92af0",
   "metadata": {},
   "outputs": [],
   "source": []
  }
 ],
 "metadata": {
  "kernelspec": {
   "display_name": "Python 3 (ipykernel)",
   "language": "python",
   "name": "python3"
  },
  "language_info": {
   "codemirror_mode": {
    "name": "ipython",
    "version": 3
   },
   "file_extension": ".py",
   "mimetype": "text/x-python",
   "name": "python",
   "nbconvert_exporter": "python",
   "pygments_lexer": "ipython3",
   "version": "3.9.7"
  }
 },
 "nbformat": 4,
 "nbformat_minor": 5
}
