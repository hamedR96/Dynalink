{
 "cells": [
  {
   "cell_type": "code",
   "execution_count": 2,
   "metadata": {},
   "outputs": [],
   "source": [
    "import gensim\n",
    "from diversity_metrics import *\n",
    "from gensim.test.utils import datapath\n",
    "from gensim.models import KeyedVectors\n",
    "from top2vec import Top2Vec\n"
   ]
  },
  {
   "cell_type": "code",
   "execution_count": 3,
   "metadata": {},
   "outputs": [],
   "source": [
    "import pickle\n",
    "with open('topics_hamed.pkl', 'rb') as f:\n",
    "    topics1 = pickle.load(f)\n",
    "with open('topics_d2v.pkl', 'rb') as f:\n",
    "    topics2 = pickle.load(f)"
   ]
  },
  {
   "cell_type": "code",
   "execution_count": null,
   "metadata": {},
   "outputs": [],
   "source": [
    "d2v_model = Top2Vec.load(\"global_topic_model\")"
   ]
  },
  {
   "cell_type": "code",
   "execution_count": null,
   "metadata": {
    "collapsed": false,
    "jupyter": {
     "outputs_hidden": false
    },
    "pycharm": {
     "name": "#%%\n"
    }
   },
   "outputs": [],
   "source": [
    "wv=d2v_model.model.wv"
   ]
  },
  {
   "cell_type": "code",
   "execution_count": null,
   "metadata": {
    "pycharm": {
     "name": "#%%\n"
    }
   },
   "outputs": [],
   "source": [
    "topic_words1, word_scores1, topic_nums1 = d2v_model.get_topics(1)#d2v_model.get_num_topics())\n",
    "topic_words2, word_scores2, topic_nums2 = d2v_model.get_topics(2)#d2v_model.get_num_topics())\n",
    "topics =topic_words1.tolist()+topic_words2.tolist()"
   ]
  },
  {
   "cell_type": "code",
   "execution_count": 8,
   "metadata": {
    "pycharm": {
     "name": "#%%\n"
    }
   },
   "outputs": [
    {
     "name": "stdout",
     "output_type": "stream",
     "text": [
      "puw: 0.6570833333333334 0.637978560490046\n",
      "jd: 0.9984281612776079 0.9839193863193715\n",
      "irbo p=0.5: 0.9995897750064179 0.9863122639239642\n",
      "irbo p=0.9: 0.9983140656343852 0.982654391758197\n"
     ]
    }
   ],
   "source": [
    "print(\"puw:\",proportion_unique_words(topics1, topk=10),proportion_unique_words(topics2, topk=10))\n",
    "print(\"jd:\", pairwise_jaccard_diversity(topics1, topk=10),pairwise_jaccard_diversity(topics2, topk=10))\n",
    "#print(\"we-pd:\", pairwise_word_embedding_distance(topics, wv, topk=10))\n",
    "#print(\"we-cd:\", centroid_distance(topics, wv, topk=10))\n",
    "print(\"irbo p=0.5:\",irbo(topics1, weight=0.5, topk=10),irbo(topics2, weight=0.5, topk=10))\n",
    "print(\"irbo p=0.9:\",irbo(topics1, weight=0.9, topk=10),irbo(topics2, weight=0.9, topk=10))\n",
    "#print(\"we-irbo p=0.5:\",word_embedding_irbo(topics,wv, weight=0.5, topk=10))\n",
    "#print(\"we-irbo p=0.9:\",word_embedding_irbo(topics,wv, weight=0.9, topk=10))"
   ]
  },
  {
   "cell_type": "code",
   "execution_count": null,
   "metadata": {},
   "outputs": [],
   "source": []
  }
 ],
 "metadata": {
  "kernelspec": {
   "display_name": "Python 3 (ipykernel)",
   "language": "python",
   "name": "python3"
  },
  "language_info": {
   "codemirror_mode": {
    "name": "ipython",
    "version": 3
   },
   "file_extension": ".py",
   "mimetype": "text/x-python",
   "name": "python",
   "nbconvert_exporter": "python",
   "pygments_lexer": "ipython3",
   "version": "3.9.7"
  }
 },
 "nbformat": 4,
 "nbformat_minor": 4
}
